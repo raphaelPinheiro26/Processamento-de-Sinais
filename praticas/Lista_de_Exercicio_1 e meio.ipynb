{
  "nbformat": 4,
  "nbformat_minor": 0,
  "metadata": {
    "colab": {
      "provenance": [],
      "collapsed_sections": [
        "NyvxHviMpShq"
      ],
      "toc_visible": true
    },
    "kernelspec": {
      "display_name": "Python 3",
      "language": "python",
      "name": "python3"
    },
    "language_info": {
      "codemirror_mode": {
        "name": "ipython",
        "version": 3
      },
      "file_extension": ".py",
      "mimetype": "text/x-python",
      "name": "python",
      "nbconvert_exporter": "python",
      "pygments_lexer": "ipython3",
      "version": "3.7.7"
    }
  },
  "cells": [
    {
      "cell_type": "markdown",
      "metadata": {
        "id": "kGlmyFQMaR-U"
      },
      "source": [
        "# Lista de Exercício 1.5\n",
        "### Introdução ao Processamento Digital de Sinais e Imagens\n",
        "\n",
        "**Instruções:**\n",
        "\n",
        " 1. Esta lista consiste em 4 exercícios. Mas leia com atenção toda a parte introdutória, pois fará diferença para esta e demais listas!\n",
        " 1. Deve-se colocar comentários nos códigos desenvolvidos.\n",
        " 1. As perguntas devem ser respondidas também como comentários no arquivo.\n",
        " 1. Colocar seu nome e número FATEC abaixo.\n",
        " 1. Quaisquer problemas na execução das listas, entrar em contato com o professor.\n",
        " 1. Depois de terminados os exercícios, deve ser gerado um arquivo **extensão .ipynb** para ser enviado ao professor pelo TEAMS da disciplina até a data máxima de entrega.\n",
        " 1. Caso não seja enviado - **ou identifique-se cópia** - o aluno ficará sem nota.\n",
        "\n",
        "\n",
        "---\n",
        "\n",
        "\n",
        "\n",
        " <table class=\"tfo-notebook-buttons\" align=\"left\">\n",
        "  <td>\n",
        "    <a target=\"_blank\" href=\"https://colab.research.google.com/github/LAVI-USP/SEL0449-SEL5895_2023/blob/main/praticas/Lista_de_Exercicio_1.ipynb\"><img src=\"https://www.tensorflow.org/images/colab_logo_32px.png\" />Executar no Google Colab</a>\n",
        "  </td>\n",
        "\n",
        "</table>\n"
      ]
    },
    {
      "cell_type": "markdown",
      "metadata": {
        "id": "L3qYz1dB-tlT"
      },
      "source": [
        "`Nome: `\n",
        "\n",
        "`Número USP: `"
      ]
    },
    {
      "cell_type": "markdown",
      "metadata": {
        "id": "b9uBe7nevota"
      },
      "source": [
        "Vamos utilizar a biblioteca [Numpy](https://numpy.org/doc/stable/) para a grande maioria dos cálculos nesta disciplina. É uma biblioteca totalmente aberta, gratuita e amplamente utilizada para diversas áreas. Este [link](https://numpy.org/doc/stable/user/numpy-for-matlab-users.html) contém dicas para usuários de MATLAB se adaptarem ao numpy. Utilize-o caso seja conveniente.\n",
        "\n",
        "Vamos importá-la (biblioteca Numpy) com um apelido ```np```, o qual utilizaremos ao longo de toda a prática:"
      ]
    },
    {
      "cell_type": "code",
      "metadata": {
        "id": "xnKV2As4aCX1"
      },
      "source": [
        "import numpy as np"
      ],
      "execution_count": null,
      "outputs": []
    },
    {
      "cell_type": "markdown",
      "metadata": {
        "id": "ppupxqIr71zm"
      },
      "source": [
        "##Lidando com matrizes - Numpy\n",
        "\n",
        "Vamos utilizar a função np.array para criar matrizes de n-dimensões\n",
        "(N-dimensional array ([ndarray](https://numpy.org/doc/stable/reference/arrays.ndarray.html#arrays-ndarray))):\n"
      ]
    },
    {
      "cell_type": "code",
      "metadata": {
        "id": "SmRKAUAm6akZ"
      },
      "source": [
        "# Array de uma dimensão (1D)\n",
        "A = np.array((1, 2))\n",
        "\n",
        "print(\"A matriz A pertence ao tipo: {}\".format(type(A)))\n",
        "print(A)\n",
        "print(\"\\n\")\n",
        "\n",
        "\n",
        "# Array (2D)\n",
        "A = np.array([[-111, 345],\n",
        "              [35, 40],\n",
        "              [514, 6]])\n",
        "\n",
        "print(A)\n",
        "print(\"\\n\")\n",
        "\n",
        "# As arrays podem ser criadas utilizando\n",
        "# tanto parênteses quanto colchetes\n",
        "B = np.array(((-111., 345.5),\n",
        "              (35, 40.1),\n",
        "              (514, 6.1254)))\n",
        "\n",
        "print(B)\n",
        "print(\"\\n\")"
      ],
      "execution_count": null,
      "outputs": []
    },
    {
      "cell_type": "markdown",
      "metadata": {
        "id": "dUOtV__L8h6n"
      },
      "source": [
        "Note que, na célula anterior, as matrizes *A* e *B* são diferentes quanto à classe de dados. A matriz *A* contém números inteiros, já a matriz *B* contém números com casa decimais. As diferentes classes de dados utilizadas na biblioteca numpy podem ser encontradas [aqui](https://numpy.org/doc/stable/user/basics.types.html).\n",
        "\n",
        "Você pode mostrar a classe de dados de uma variável da seguinte forma:\n",
        "```python\n",
        "print(\"Dados da matriz A com tipo: %s\" % A.dtype)\n",
        "```\n",
        "Da mesma forma, você pode converter a matriz para outro tipo de classe da seguinte forma:\n",
        "```python\n",
        "D = A.astype(\"uint16\")\n",
        "```\n",
        "\n",
        "### EXERCÍCIO 1 (peso 2/10).\n",
        "1. Mostre quais as classes das matrizes A e B fornecidas acima.\n",
        "2. Converta a matriz A para o tipo uint16. Mostre a matriz convertida. **Explique o resultado obtido.**\n",
        "3. Converta a matriz B para o tipo int8. Mostre a matriz convertida. **Explique o resultado obtido.**\n"
      ]
    },
    {
      "cell_type": "code",
      "metadata": {
        "id": "UTXJYHux9XCu"
      },
      "source": [
        "# Seu código começa aqui\n",
        "\n",
        "# Seu código termina aqui"
      ],
      "execution_count": null,
      "outputs": []
    },
    {
      "cell_type": "markdown",
      "source": [
        "**ATENÇÃO!** Aprenda a lidar com os tipos de variáveis e a ficar atento aos dados incorretos que possam ser gerados, principalmente ao usar imagens (em que o range é de 0-255 (uint8)). Além disso, ao realizar operações, a classe de dados pode não se alterar automaticamente, como acontece com o seguinte caso ao somar variáveis. Veja:"
      ],
      "metadata": {
        "id": "6oI7WlAxHIFC"
      }
    },
    {
      "cell_type": "code",
      "source": [
        "# Apenas para chamar a atenção: execute esta célula para verificar a diferença de resultados.\n",
        "Auint8 = np.ones(shape=(3,3)).astype(\"uint8\")\n",
        "Auint8 +=300\n",
        "print(Auint8)\n",
        "print(Auint8.dtype)\n",
        "\n",
        "print(\"-----\")\n",
        "Auint81 = np.ones(shape=(3,3)).astype(\"uint8\")\n",
        "Auint81=Auint81+300\n",
        "print(Auint81)\n",
        "print(Auint81.dtype)"
      ],
      "metadata": {
        "id": "namKxoAVjdr9"
      },
      "execution_count": null,
      "outputs": []
    },
    {
      "cell_type": "markdown",
      "metadata": {
        "id": "LfvvkPYKCNgV"
      },
      "source": [
        "### Indexando matrizes\n",
        "\n",
        "Agora vamos estudar como extrair dados de uma matriz ou substituir os lá existentes. O acesso às *arrays* se dá por meio de indexação (*indexing*), também denominada *slicing*.\n",
        "\n",
        "Mais informações sobre os vários tipos de indexação você pode encontrar neste [link](https://numpy.org/doc/stable/reference/arrays.indexing.html). [Aqui](https://numpy.org/doc/stable/reference/arrays.indexing.html#advanced-indexing) estão alguns tipos avançados de indexação.\n",
        "\n",
        "Vamos ver alguns tipos básicos de indexação:"
      ]
    },
    {
      "cell_type": "code",
      "metadata": {
        "id": "xOjlCnNaCOIO"
      },
      "source": [
        "A = np.array([[1 , 2 , 3 , 4 , 5 ],\n",
        "              [6 , 7 , 8 , 9 , 10],\n",
        "              [11, 12, 13, 14, 15],\n",
        "              [16, 17, 18, 19, 20]], dtype=np.int16)\n",
        "\n",
        "# Mostrando a matriz A\n",
        "print(A)\n",
        "print(\"\\n\")\n",
        "\n",
        "# Para selecionar um determinado elemento da matriz, deve-se utilizar:\n",
        "# A[i,j], sendo i o número da linha e j o número da coluna com i,j = 0, ...n-1\n",
        "# Ex.: Elemento da linha 2 e coluna 3:\n",
        "print(A[1,2])\n",
        "print(\"\\n\")\n",
        "\n",
        "# Usa-se dois pontos (:) para significar “todos” ou “até”.\n",
        "# Ex.: Todos os elementos da quarta coluna:\n",
        "print(A[:,3])\n",
        "print(\"\\n\")\n",
        "\n",
        "# Ex.: Todos os elementos da primeira linha:\n",
        "print(A[0,:])\n",
        "print(\"\\n\")\n",
        "\n",
        "# Ex.: Todos os elementos da linha 1 até a linha 3 e da coluna 3 até a coluna 4:\n",
        "print(A[0:3,2:4])\n",
        "print(\"\\n\")\n",
        "\n",
        "# Ex.: Fazer todos os elementos da coluna 2 iguais a zero:\n",
        "B = A.copy()\n",
        "B[:,1] = 0\n",
        "print(B[:,1])\n",
        "print(\"\\n\")\n",
        "\n",
        "# Ex.: O elemento da última linha e última coluna:\n",
        "print(A[-1,-1])\n",
        "print(\"\\n\")\n",
        "\n",
        "# Ex.: Todos os elementos da última coluna:\n",
        "print(A[:,-1])\n",
        "print(\"\\n\")\n",
        "\n",
        "# Ex.: O elemento da última linha e primeira coluna antes da última:\n",
        "print(A[-1,-2])\n",
        "print(\"\\n\")\n",
        "\n",
        "# Ex.: Os elementos da linha 2 até a última linha e da última coluna até a segunda coluna com passo de –2:\n",
        "print(A[1:,-1:1:-2])\n",
        "print(\"\\n\")\n",
        "\n",
        "# Ex.: Matriz transposta de A\n",
        "print(A.transpose())"
      ],
      "execution_count": null,
      "outputs": []
    },
    {
      "cell_type": "markdown",
      "metadata": {
        "id": "Qshvw1B3vGZB"
      },
      "source": [
        "### Propriedades das matrizes\n",
        "\n",
        "Nesta célula, vamos estudar como extrair algumas propriedades da matriz, bem como executar algumas operações básicas na mesma.\n",
        "\n",
        "Algumas operações são feitas ao longo dos eixos da matriz. Veja abaixo a definição de eixos extraída da documentação."
      ]
    },
    {
      "cell_type": "code",
      "metadata": {
        "id": "CNTSIDbHvNpF"
      },
      "source": [
        "'''\n",
        "\n",
        "Definição de axis: \"Os eixos são definidos para matrizes com mais de uma\n",
        "dimensão. Uma matriz bidimensional tem dois eixos: o primeiro, executando\n",
        "verticalmente, para baixo, nas linhas (eixo 0), e o segundo, executando\n",
        "horizontalmente, nas colunas (eixo 1).\"\n",
        "\n",
        "Ref: https://numpy.org/doc/stable/glossary.html?highlight=axis#glossary\n",
        "\n",
        "'''\n",
        "\n",
        "### ----- Propriedades da matriz -----\n",
        "# Número de linhas e colunas de uma matriz (2D neste exemplo)\n",
        "M, N = A.shape\n",
        "print(\"Nossa matriz A tem o formato de:{}, com {} linhas e {} colunas.\".format(A.shape,M,N))\n",
        "\n",
        "# Número total de elementos da matriz\n",
        "MxN = A.size\n",
        "print(\"Nossa matriz possui um total de %d elementos.\" % (MxN))\n",
        "\n",
        "### ----- Operações -----\n",
        "# Ex.: Vetor mostrando os valores máximos de cada coluna de uma matriz:\n",
        "print(np.max(A, axis=0))\n",
        "\n",
        "# Ex.: Valor máximo de uma matriz:\n",
        "print(np.max(A))    # Alternativa: A.max()\n",
        "\n",
        "# Ex.: Vetor mostrando os valores mínimos de cada coluna de uma matriz:\n",
        "print(np.min(A, axis=0))\n",
        "\n",
        "# Ex.: Valor mínimo de uma matriz:\n",
        "print(np.min(A))    # Alternativa: A.min()\n",
        "\n",
        "# Ex.: Soma dos elementos ao longo das linhas\n",
        "print(np.sum(A, axis=1))\n",
        "\n",
        "# Ex.: Soma de todos os elementos da matriz\n",
        "print(np.sum(A))    # Alternativa: A.sum()\n",
        "\n",
        "# Ex.: Média dos elementos ao longo das colunas\n",
        "print(np.mean(A, axis=0))\n",
        "\n",
        "# Ex.: Média de toda a matriz\n",
        "print(np.mean(A))   # Alternativa: A.mean()\n",
        "\n",
        "# Ex.: Variância dos elementos ao longo das colunas\n",
        "print(np.var(A, ddof=1, axis=0))\n",
        "\n",
        "# Ex.: Variância de toda a matriz\n",
        "print(np.var(A, ddof=1))   # Alternativa: A.var(ddof=1)"
      ],
      "execution_count": null,
      "outputs": []
    },
    {
      "cell_type": "markdown",
      "metadata": {
        "id": "mquoqgH9xphG"
      },
      "source": [
        "A biblioteca Numpy também permite gerar arranjos padrões que são úteis em diversas aplicações:\n",
        "\n",
        "*   [np.zeros](https://numpy.org/doc/stable/reference/generated/numpy.zeros.html) - matriz de zeros;\n",
        "*   [np.ones](https://numpy.org/doc/stable/reference/generated/numpy.ones.html) - matriz de uns;\n",
        "*   [np.rand](https://numpy.org/doc/stable/reference/random/generated/numpy.random.rand.html) - matriz de números aleatórios uniformemente distribuídos no intervalo ```[0,1]```;\n",
        "*   [np.randn](https://numpy.org/doc/stable/reference/random/generated/numpy.random.randn.html) - matriz de números aleatórios com uma distribuição normal (distribuição gaussiana) com média 0 e variância 1. (**Lembrando**: há uma probabilidade de aproximadamente 68% dos dados estarem dentro de uma faixa de -1*desvio padrão até 1*desvio padrão, sendo ``` (desvio padrão )^2  = variância ```.)\n",
        "\n",
        "### EXERCÍCIO 2 (peso 2/10)\n",
        "\n",
        "1. Gere uma matriz aleatória 1000x1000 com distribuição normal de média igual a 10 e variância igual a 9. Plote o histograma e **comente os resultados**. Quais os valores e probabilidades envolvidos? (Visite a página da função para entender melhor como ela funciona!)\n",
        "\n",
        "``` python\n",
        "#Dica - Você pode usar a biblioteca matplotlib para isto substituindo:\n",
        "plt.figure()\n",
        "plt.imshow(matriz, 'gray')\n",
        "plt.show()\n",
        "#por:\n",
        "plt.figure()\n",
        "plt.hist(matriz.flatten(),bins=1000) #sempre converter a matriz para 1D, por isto o flatten()\n",
        "plt.show()\n",
        "```"
      ]
    },
    {
      "cell_type": "code",
      "source": [
        "Azeros = np.zeros(shape=(5,5))\n",
        "print(Azeros)\n",
        "print(\"\\n\")\n",
        "\n",
        "Aones = np.ones(shape=(5,5))\n",
        "print(Aones)\n",
        "print(\"\\n\")\n",
        "\n",
        "Arand = np.random.rand(3,3)\n",
        "print(Arand)\n",
        "print(\"\\n\")\n",
        "\n",
        "Arandn = np.random.randn(3,3)\n",
        "print(Arandn)\n",
        "print(\"\\n\")\n",
        "\n",
        "# Seu código começa aqui\n",
        "\n",
        "# Seu código termina aqui\n",
        "\n",
        "#Comentários:"
      ],
      "metadata": {
        "id": "eWOXC13IZuVF"
      },
      "execution_count": null,
      "outputs": []
    },
    {
      "cell_type": "markdown",
      "metadata": {
        "id": "rDwo0okoXiKx"
      },
      "source": [
        "Caso queira obter a descrição de uma função específica, você pode utilizar o comando `help()`.\n",
        "\n",
        "Por exemplo:\n",
        "`help(np.max)`"
      ]
    },
    {
      "cell_type": "markdown",
      "metadata": {
        "id": "vvjeTeXK4b5H"
      },
      "source": [
        "## Imagens\n",
        "\n",
        "As imagens nada mais são do que matrizes. Cada pixel está relacionado com uma posição A[i,j] da matriz, tal que ```0  ≤ i  ≤ M-1``` e ```0  ≤ j  ≤ N-1```. Em cada tipo de imagem, o valor do pixel tem uma representação específica, como por exemplo:\n",
        "\n",
        "1. **Imagens de Intensidades:** É uma matriz de dados cujos valores representam as intensidades em cada ponto. Se os elementos de intensidade forem da classe ```uint8```, seus valores estarão no intervalo ```[0, 255]```. Se forem da classe ```uint16```, seus valores variarão no intervalo ```[0, 65535]```.\n",
        "\n",
        "2. **Imagens RGB:** É composta por 3 matrizes de dados, em que cada matriz é responsável por armazenar as informações de intensidades de cada canal: R (red - vermelho), G (green - verde) ou B (blue - azul).\n",
        "\n",
        "2. **Imagens Binárias:** É um arranjo lógico de zeros e uns, sendo, esses dados (zeros e uns), da classe ```logical```.\n",
        "\n",
        "Vamos aprender a ler imagens de arquivos, mostrá-las e processá-las. Para a leitura e exibição dessas imagens, utilizaremos as bibliotecas [OpenCV](https://docs.opencv.org/3.4/d4/da8/group__imgcodecs.html#ga288b8b3da0892bd651fce07b3bbd3a56) e  [Matplotlib](https://matplotlib.org).\n",
        "\n",
        "Vamos importar as bibliotecas para nosso ambiente e dar \"apelidos\" para elas."
      ]
    },
    {
      "cell_type": "code",
      "metadata": {
        "id": "Msb7mnuwcmsm"
      },
      "source": [
        "import matplotlib.pyplot as plt\n",
        "import cv2 as cv"
      ],
      "execution_count": null,
      "outputs": []
    },
    {
      "cell_type": "code",
      "metadata": {
        "id": "WCaKcMx5eU0e"
      },
      "source": [
        "# Vamos criar uma matriz com vários elementos\n",
        "E = np.array([[0, 5, 10, 15, 20, 25, 30, 35, 40, 45, 50, 55, 60, 65, 70, 75, 80, 85, 90, 95, 100],\n",
        "              [0, 5, 10, 15, 20, 25, 30, 35, 40, 45, 50, 55, 60, 65, 70, 75, 80, 85, 90, 95, 100],\n",
        "              [0, 5, 10, 15, 20, 25, 30, 35, 40, 45, 50, 55, 60, 65, 70, 75, 80, 85, 90, 95, 100],\n",
        "              [0, 5, 10, 15, 20, 25, 30, 35, 40, 45, 50, 55, 60, 65, 70, 75, 80, 85, 90, 95, 100],\n",
        "              [0, 5, 10, 15, 20, 25, 30, 35, 40, 45, 50, 55, 60, 65, 70, 75, 80, 85, 90, 95, 100],\n",
        "              [0, 5, 10, 15, 20, 25, 30, 35, 40, 45, 50, 55, 60, 65, 70, 75, 80, 85, 90, 95, 100],\n",
        "              [0, 5, 10, 15, 20, 25, 30, 35, 40, 45, 50, 55, 60, 65, 70, 75, 80, 85, 90, 95, 100],\n",
        "              [0, 5, 10, 15, 20, 25, 30, 35, 40, 45, 50, 55, 60, 65, 70, 75, 80, 85, 90, 95, 100],\n",
        "              [0, 5, 10, 15, 20, 25, 30, 35, 40, 45, 50, 55, 60, 65, 70, 75, 80, 85, 90, 95, 100],\n",
        "              [0, 5, 10, 15, 20, 25, 30, 35, 40, 45, 50, 55, 60, 65, 70, 75, 80, 85, 90, 95, 100],\n",
        "              [0, 5, 10, 15, 20, 25, 30, 35, 40, 45, 50, 55, 60, 65, 70, 75, 80, 85, 90, 95, 100],\n",
        "              [0, 5, 10, 15, 20, 25, 30, 35, 40, 45, 50, 55, 60, 65, 70, 75, 80, 85, 90, 95, 100],\n",
        "              [0, 5, 10, 15, 20, 25, 30, 35, 40, 45, 50, 55, 60, 65, 70, 75, 80, 85, 90, 95, 100],\n",
        "              [0, 5, 10, 15, 20, 25, 30, 35, 40, 45, 50, 55, 60, 65, 70, 75, 80, 85, 90, 95, 100],\n",
        "              [0, 5, 10, 15, 20, 25, 30, 35, 40, 45, 50, 55, 60, 65, 70, 75, 80, 85, 90, 95, 100],\n",
        "              [0, 5, 10, 15, 20, 25, 30, 35, 40, 45, 50, 55, 60, 65, 70, 75, 80, 85, 90, 95, 100]], dtype=np.uint8)\n",
        "\n",
        "# Agora vamos mostrar essa imagem.\n",
        "plt.figure()\n",
        "plt.imshow(E, cmap='gray')\n",
        "plt.show()\n",
        "\n",
        "# Já que nossos dados são do tipo uint8, ou seja, seus valores vão de 0 a 255,\n",
        "# por que a imagem foi mostrada de forma tal que o menor valor da matriz (zero)\n",
        "# fora representado em preto (o que já é de se esperar) e o maior valor matriz\n",
        "# (cem) fora representado em branco?"
      ],
      "execution_count": null,
      "outputs": []
    },
    {
      "cell_type": "code",
      "metadata": {
        "id": "fyYXiSqGe1Hh"
      },
      "source": [
        "# Isso acontece pois a função já normaliza os valores de entrada para que o\n",
        "# colormap cubra somente a faixa de valores da própria imagem. Segue a definição\n",
        "# tirada do manual:\n",
        "\n",
        "'''\n",
        "\"Por padrão, o mapa de cores cobre somente o intervalo de valores dos dados\n",
        "fornecidos.\"\n",
        "'''\n",
        "\n",
        "# Para definirmos o intervalo de dados que o mapa de cores irá cobrir,\n",
        "# devemos ajustar os parâmetros de vmin e vmax:\n",
        "\n",
        "plt.figure()\n",
        "plt.imshow(E, cmap='gray', vmin=0, vmax=255)\n",
        "plt.show()\n",
        "\n",
        "# Os parâmetros de vmin e vmax especificam os limites dos valores de branco\n",
        "# e preto. O parâmetro vmin (e qualquer valor menor do que ele) corresponde\n",
        "# ao preto; o parâmetro vmax (e qualquer valor maior do que ele) é mostrado\n",
        "# como branco. Valores intermediários são mostrados em escala de cinza, usando\n",
        "# o número padrão de níveis.\n",
        "\n",
        "# Agora ficou como imaginamos inicialmente."
      ],
      "execution_count": null,
      "outputs": []
    },
    {
      "cell_type": "code",
      "metadata": {
        "id": "UaqipfPpmtqo"
      },
      "source": [
        "# Podemos ajustar para qualquer valor:\n",
        "plt.figure()\n",
        "plt.imshow(E, cmap='gray', vmin=25, vmax=55)\n",
        "plt.show()\n",
        "\n",
        "# Note que é importante saber qual a faixa de valores em que se está trabalhando, pois ao delimitar valores mínimo e máximo, você pode desconsiderar valores importantes no resultado.\n",
        "# Não plote cegamente seus dados! Ok?"
      ],
      "execution_count": null,
      "outputs": []
    },
    {
      "cell_type": "markdown",
      "metadata": {
        "id": "NyvxHviMpShq"
      },
      "source": [
        "#### **Atenção**: os códigos abaixo são para fazer o download das imagens (EXECUTE-OS). Os mesmos não fazem parte dessa prática."
      ]
    },
    {
      "cell_type": "code",
      "metadata": {
        "id": "Amk5CM273Afp"
      },
      "source": [
        "import urllib.request\n",
        "\n",
        "try:\n",
        "  urllib.request.urlretrieve(\"https://raw.githubusercontent.com/LAVI-USP/SEL0449-SEL5895_2023/main/imagens/pratica_01/picture.jpg\", \"picture.jpg\")\n",
        "except:\n",
        "  print(\"[ERRO] Não foi possível fazer o download das imagens dessa prática. Entre em contato com o monitor\")\n",
        "\n",
        "try:\n",
        "  urllib.request.urlretrieve(\"https://github.com/LAVI-USP/SEL0449-SEL5895_2023/blob/main/imagens/pratica_01/livingroom.tif?raw=true\", \"livingroom.tif\")\n",
        "except:\n",
        "  print(\"[ERRO] Não foi possível fazer o download das imagens dessa prática. Entre em contato com o monitor\")\n",
        "\n",
        "try:\n",
        "  urllib.request.urlretrieve(\"https://github.com/LAVI-USP/SEL0449-SEL5895_2023/blob/main/imagens/pratica_01/lena_gray_512.tif?raw=true\", \"lena_gray_512.tif\")\n",
        "except:\n",
        "  print(\"[ERRO] Não foi possível fazer o download das imagens dessa prática. Entre em contato com o monitor\")\n",
        "\n",
        "try:\n",
        "  urllib.request.urlretrieve(\"https://github.com/LAVI-USP/SEL0449-SEL5895_2023/blob/main/imagens/pratica_01/lena_gray_256.tif?raw=true\", \"lena_gray_256.tif\")\n",
        "except:\n",
        "  print(\"[ERRO] Não foi possível fazer o download das imagens dessa prática. Entre em contato com o monitor\")\n"
      ],
      "execution_count": null,
      "outputs": []
    },
    {
      "cell_type": "markdown",
      "metadata": {
        "id": "GHX9Y9sfpbmd"
      },
      "source": [
        "### Leitura de imagens - SUPER IMPORTANTE!!!!!!!!!!!!!!!\n",
        "\n",
        "NESTA PRÁTICA E NAS SEGUINTES, sempre que fizer uma leitura de imagem utilize o **argumento -1 - ou cv.IMREAD_UNCHANGED - e sempre verifique o shape da imagem lida - 2 dimensões para grayscale e 3 dimensões para RGB.** Caso oculte essa flag, mesmo que a imagem mostrada apareça como grayscale, a biblioteca, por default, pode ter considerado replicar o valor para 3 canais - o que pode prejudicar o tratamento e análise a serem realizados. Para mais informações: [opencv - imread - ver flags de leitura](https://docs.opencv.org/3.4/d4/da8/group__imgcodecs.html#ga288b8b3da0892bd651fce07b3bbd3a56).\n",
        "\n",
        "As imagens para esta prática encontram-se no diretório do *Github*. As mesmas são baixadas através das linhas de código anteriores e já se encontram no diretório local (caso o *download* tenha dado certo).\n",
        "\n",
        "**IMPORTANTE (também =))**: o colormap da biblioteca *matplotlib* padrão (ou seja, se você não especificar) é 'viridis' - aparenta ser colorida -, mas na verdade é uma escala que varia de roxo até verde conforme a intensidade dos níveis de cinza aumenta. Se quiser mostrar em níveis de cinza real, você deve especificar no plot: cmap='gray'. Veja: [colormaps - matplotlib](https://matplotlib.org/stable/tutorials/colors/colormaps.html).\n",
        "\n",
        "Agora aprenderemos a ler essas imagens que foram baixadas."
      ]
    },
    {
      "cell_type": "code",
      "metadata": {
        "id": "mw4YSy8cpg56"
      },
      "source": [
        "# Vamos carregar a imagem  - ainda sem utilizar a flag cv.IMREAD_UNCHANGED ou -1\n",
        "img1 = cv.imread(\"picture.jpg\")\n",
        "img1_shape = img1.shape\n",
        "\n",
        "plt.figure(figsize=(5,5))\n",
        "plt.title(\"shape {}\".format(img1_shape))\n",
        "plt.imshow(img1) # Aparenta ser grayscale, mas apresenta 3 canais.\n",
        "plt.show()\n",
        "\n",
        "# Agora, vamos carregar a imagem  - utilizando a flag cv.IMREAD_UNCHANGED ou -1\n",
        "img1 = cv.imread(\"picture.jpg\",cv.IMREAD_UNCHANGED)\n",
        "img1_shape = img1.shape\n",
        "\n",
        "plt.figure(figsize=(5,5))\n",
        "plt.title(\"shape {}\".format(img1_shape))\n",
        "plt.imshow(img1) # 1 canal - cmap = 'viridis' - default\n",
        "plt.show()\n",
        "\n",
        "# Agora vamos mostrar a imagem em uma escala de cinzas.\n",
        "plt.figure(figsize=(5,5))\n",
        "plt.title(\"shape {}\".format(img1_shape))\n",
        "plt.imshow(img1,cmap='gray') # 1 canal - cmap = 'gray'\n",
        "plt.show()"
      ],
      "execution_count": null,
      "outputs": []
    },
    {
      "cell_type": "markdown",
      "metadata": {
        "id": "Ic8w4ULovXOB"
      },
      "source": [
        "### EXERCÍCIO 3 (peso 4/10). Indexando imagens\n",
        "\n",
        "Como imagens são matrizes, os esquemas de indexação de matrizes podem ser usados diretamente nas imagens.\n",
        "\n",
        "\n",
        "1.   Carregue a imagem ```'livingroom.tif'``` em uma variável chamada img3. Mostre seu tipo e shape.\n",
        "2.   Plote a imagem original.\n",
        "3.   Usando a indexação aprendida acima, faça as seguintes alterações na imagem e plote em seguida - coloque o respectivo shape no título da imagem:\n",
        "  *   Exclua as linhas pares e inverta a imagem horizontalmente.\n",
        "  *   Inverta a imagem verticalmente e horizontalmente ao mesmo tempo.\n",
        "  *   Considere apenas das linhas de índice 100 a 200 e colunas de índice 120 a 220.\n",
        "  *   Reduza a imagem a 1/4 do seu tamanho - usando step de 4.\n",
        "``` python\n",
        "#ATENÇÃO - use um mesmo tamanho na tela para todas as imagens, independente da resolução:\n",
        "plt.figure(figsize=(5,5) #5x5 polegadas\n",
        "plt.imshow(img, 'gray')\n",
        "plt.show()\n",
        "```\n",
        "  \n"
      ]
    },
    {
      "cell_type": "code",
      "metadata": {
        "id": "z0qpT3pltoAx"
      },
      "source": [
        "# Seu código começa aqui\n",
        "\n",
        "# Seu código termina aqui"
      ],
      "execution_count": null,
      "outputs": []
    },
    {
      "cell_type": "markdown",
      "metadata": {
        "id": "OcMh8xfE_EDX"
      },
      "source": [
        "### EXERCÍCIO 4 - Visualização de imagens (peso 2/10)\n",
        "\n",
        "A seguir vamos ver um modo de visualizar as imagens. Você pode se valer disto para deixar seus resultados mais organizados e fáceis de entender. Além disso, não confunda o figsize com a resolução da imagem. A propriedade figsize te permite apenas diminuir ou aumentar a imagem mostrada na tela, mas a resolução da imagem não é alterada.\n",
        "\n",
        "1. Carregue as imagens ```lena_gray_512.tif``` e ```lena_gray_256.tif```.\n",
        "2. Plote as imagens em subplots (1 linha, 2 colunas). Coloque o shape, valor máximo e mínimo de cada imagem como título. Use figsize=(20,10). **Comente os resultados**.\n",
        "\n",
        "  \n",
        "``` python\n",
        "#DICA - exemplo 1 linha, 2 colunas\n",
        "plt.figure(figsize=(20,10))\n",
        "plt.suptitle(\"Visualizando imagens em subplots\")\n",
        "plt.subplot(1,2,1)\n",
        "plt.title(\"img1 {}: máx={} / mín={}\".format(img1.shape, img1.max(),img1.min()))\n",
        "plt.imshow(img1,'gray', vmin=0, vmax=255)\n",
        "plt.subplot(1,2,2)\n",
        "plt.title(\"img2 {}: máx={} / mín={}\".format(img2.shape, img2.max(),img2.min()))\n",
        "plt.imshow(img2,'gray', vmin=0, vmax=255)\n",
        "plt.show()\n",
        "```"
      ]
    },
    {
      "cell_type": "code",
      "source": [
        "# Seu código começa aqui\n",
        "\n",
        "# Seu código termina aqui\n",
        "\n",
        "# Comentários:"
      ],
      "metadata": {
        "id": "18L-1r3lmrm1"
      },
      "execution_count": null,
      "outputs": []
    }
  ]
}