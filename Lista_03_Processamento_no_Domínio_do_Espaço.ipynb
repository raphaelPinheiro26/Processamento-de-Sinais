{
  "nbformat": 4,
  "nbformat_minor": 0,
  "metadata": {
    "colab": {
      "provenance": [],
      "collapsed_sections": [
        "NyvxHviMpShq"
      ],
      "include_colab_link": true
    },
    "kernelspec": {
      "display_name": "Python 3",
      "name": "python3"
    }
  },
  "cells": [
    {
      "cell_type": "markdown",
      "metadata": {
        "id": "view-in-github",
        "colab_type": "text"
      },
      "source": [
        "<a href=\"https://colab.research.google.com/github/raphaelPinheiro26/Processamento-de-Sinais/blob/main/Lista_03_Processamento_no_Dom%C3%ADnio_do_Espa%C3%A7o.ipynb\" target=\"_parent\"><img src=\"https://colab.research.google.com/assets/colab-badge.svg\" alt=\"Open In Colab\"/></a>"
      ]
    },
    {
      "cell_type": "markdown",
      "metadata": {
        "id": "kGlmyFQMaR-U"
      },
      "source": [
        "# Lista de Exercício 3\n",
        "### Processamento Digital de Sinais e Imagens\n",
        "\n",
        "**Instruções:**\n",
        "\n",
        " 1. Esta lista consiste em 7 exercícios.\n",
        " 1. Deve-se colocar comentários nos códigos desenvolvidos.\n",
        " 1. As perguntas devem ser respondidas também como comentários no arquivo.\n",
        " 1. Colocar seu nome e número FATEC abaixo.\n",
        " 1. Quaisquer problemas na execução das listas, entrar em contato com os monitores.\n",
        " 1. Depois de terminados os exercícios, deve ser gerado um arquivo **extensão .ipynb** para ser enviado ao professor pelo TEAMS da disciplina até a data máxima de entrega.\n",
        " 1. Caso não seja enviado - ou identifique-se cópia - o aluno ficará sem nota.\n",
        "\n",
        "\n",
        "---\n",
        "\n",
        "\n",
        "\n",
        " <table class=\"tfo-notebook-buttons\" align=\"left\">\n",
        "  <td>\n",
        "    <a target=\"_blank\" href=\"https://colab.research.google.com/github/LAVI-USP/SEL0449-SEL5895_2023/blob/main/praticas/Lista_de_Exercicio_3.ipynb\"><img src=\"https://www.tensorflow.org/images/colab_logo_32px.png\" />Executar no Google Colab</a>\n",
        "  </td>\n",
        "</table>"
      ]
    },
    {
      "cell_type": "markdown",
      "metadata": {
        "id": "L3qYz1dB-tlT"
      },
      "source": [
        "`Nome: `\n",
        "\n",
        "`Número FATEC: `"
      ]
    },
    {
      "cell_type": "markdown",
      "metadata": {
        "id": "b9uBe7nevota"
      },
      "source": [
        "### Introdução:\n",
        "\n",
        "Nesta lista de exercícios vamos estudar sobre histogramas, transformações de intensidade ponto a ponto, equalização de histogramas, filtros passa-baixa, passa-alta e processamento de pixel de borda. Primeiramente, vamos importar as bibliotecas que iremos utilizar:"
      ]
    },
    {
      "cell_type": "code",
      "metadata": {
        "id": "xnKV2As4aCX1"
      },
      "source": [
        "import numpy as np\n",
        "import matplotlib.pyplot as plt\n",
        "import cv2 as cv\n",
        "import os\n",
        "\n",
        "from scipy.io import loadmat\n",
        "from IPython.display import HTML\n",
        "from base64 import b64encode"
      ],
      "execution_count": null,
      "outputs": []
    },
    {
      "cell_type": "markdown",
      "metadata": {
        "id": "NyvxHviMpShq"
      },
      "source": [
        "#### **Atenção**: os códigos abaixo são para fazer o download das imagens necessárias para a prática. EXECUTE-OS!"
      ]
    },
    {
      "cell_type": "code",
      "metadata": {
        "id": "Amk5CM273Afp"
      },
      "source": [
        "import urllib.request\n",
        "\n",
        "try:\n",
        "  urllib.request.urlretrieve(\"https://github.com/LAVI-USP/SEL0449-SEL5895_2023/blob/main/imagens/pratica_03/fotografo.tif?raw=true\", \"fotografo.tif\")\n",
        "except:\n",
        "  print(\"[ERRO] Não foi possível fazer o download das imagens dessa prática. Entre em contato com o monitor\")\n",
        "\n",
        "try:\n",
        "  urllib.request.urlretrieve(\"https://github.com/LAVI-USP/SEL0449-SEL5895_2023/blob/main/imagens/pratica_03/polem_baixo_contraste.bmp?raw=true\", \"polem_baixo_contraste.bmp\")\n",
        "except:\n",
        "  print(\"[ERRO] Não foi possível fazer o download das imagens dessa prática. Entre em contato com o monitor\")\n",
        "\n",
        "try:\n",
        "  urllib.request.urlretrieve(\"https://github.com/LAVI-USP/SEL0449-SEL5895_2023/blob/main/imagens/pratica_03/palavrascruzadas.tif?raw=true\", \"palavrascruzadas.tif\")\n",
        "except:\n",
        "  print(\"[ERRO] Não foi possível fazer o download das imagens dessa prática. Entre em contato com o monitor\")\n",
        "\n",
        "try:\n",
        "  urllib.request.urlretrieve(\"https://github.com/LAVI-USP/SEL0449-SEL5895_2023/blob/main/imagens/pratica_03/mriphantom.tif?raw=true\", \"mriphantom.tif\")\n",
        "except:\n",
        "  print(\"[ERRO] Não foi possível fazer o download das imagens dessa prática. Entre em contato com o monitor\")\n",
        "\n",
        "try:\n",
        "  urllib.request.urlretrieve(\"https://github.com/LAVI-USP/SEL0449-SEL5895_2023/blob/main/imagens/pratica_03/armadura.tif?raw=true\", \"armadura.tif\")\n",
        "except:\n",
        "  print(\"[ERRO] Não foi possível fazer o download das imagens dessa prática. Entre em contato com o monitor\")\n",
        "\n",
        "try:\n",
        "  urllib.request.urlretrieve(\"https://github.com/LAVI-USP/SEL0449-SEL5895_2023/blob/main/imagens/pratica_03/pontos.tif?raw=true\", \"pontos.tif\")\n",
        "except:\n",
        "  print(\"[ERRO] Não foi possível fazer o download das imagens dessa prática. Entre em contato com o monitor\")\n",
        "\n",
        "try:\n",
        "  urllib.request.urlretrieve(\"https://github.com/LAVI-USP/SEL0449-SEL5895_2023/blob/main/imagens/pratica_03/board_ruido.tif?raw=true\", \"board_ruido.tif\")\n",
        "except:\n",
        "  print(\"[ERRO] Não foi possível fazer o download das imagens dessa prática. Entre em contato com o monitor\")"
      ],
      "execution_count": null,
      "outputs": []
    },
    {
      "cell_type": "markdown",
      "metadata": {
        "id": "ppupxqIr71zm"
      },
      "source": [
        "### 1) Visualização de histogramas (Nota: 0.5/10.0)\n",
        "\n",
        "Então, o que é histograma? Você pode considerar o histograma como um gráfico (ou plotagem) que dá uma ideia geral sobre a distribuição da intensidade dos pixels de uma imagem. É um gráfico que indica os valores de intensidade dos pixels (variando de 0 a 255, caso a quantização seja realizada em 8 bits), no eixo X, e o número de pixels na imagem com a intensidade correspondente, no eixo Y.\n",
        "\n",
        "É apenas outra forma de entender a imagem. Olhando para o histograma de uma imagem, você tem uma intuição sobre o contraste, brilho, distribuição de intensidade, etc. Quase todas as ferramentas de processamento de imagem oferecem recursos de histograma.\n",
        "\n",
        "<center><img src=\"https://github.com/LAVI-USP/SEL0449-SEL5895_2023/blob/main/imagens/pratica_03/histograma.png?raw=true\" style=\"width:650px;height:300px;\"></center>\n",
        "\n",
        "<center><caption><b> Figura 1:</b> Exemplo de histograma.</b></caption></center>\n",
        "<caption><center> Referência: <a href=\"https://docs.opencv.org/master/d1/db7/tutorial_py_histogram_begins.html\">Histograms - OpenCV</a>.</center></caption>\n",
        "\n",
        "**Exercício:**\n",
        "\n",
        "1. Mostre a imagem ```fotografo.tif``` e seu histograma com o número de *bins* diferentes. Utilize ```bins=50``` e ```bins=100``` e comente os resultados.\n",
        "\n",
        "*Dica:* Utilize a função [plt.hist](https://matplotlib.org/3.3.1/api/_as_gen/matplotlib.pyplot.hist.html).\n",
        "\n",
        "*Ex:*\n",
        "``` python\n",
        "plt.hist(myImg.flatten(),bins=XX,density=False,range=(0,255))\n",
        "```"
      ]
    },
    {
      "cell_type": "code",
      "metadata": {
        "id": "v3zOxtTSjJh8"
      },
      "source": [
        "## -- Seu código começa AQUI -- ##\n",
        "\n",
        "\n",
        "## -- Seu código termina AQUI -- ##\n",
        "\n",
        "#COMENTÁRIO:"
      ],
      "execution_count": null,
      "outputs": []
    },
    {
      "cell_type": "markdown",
      "metadata": {
        "id": "OcMh8xfE_EDX"
      },
      "source": [
        "### 2) Transformação de intensidades (Nota: 2.0/10.0)\n",
        "\n",
        "As técnicas de processamento no domínio espacial operam diretamente nos pixels da imagem. A expressão geral para a função de transformação nos níveis de cinza pode ser dada por:\n",
        "\n",
        "$$g(x,y) = T[f(x,y)],$$\n",
        "\n",
        "sendo $f(x,y)$ a imagem de entrada e $g(x,y)$ a imagem de saída ou imagem processada. $T$ é um operador em $f$.\n",
        "\n",
        "\n",
        "2.1) Transformação linear:\n",
        "\n",
        "Um exemplo de função de transformação é a linear, tal que:\n",
        "\n",
        "$$g(x,y) = c \\times f(x,y) + b,$$\n",
        "\n",
        "onde $c$ é uma constante que controla o contraste, e $b$, o brilho.\n",
        "\n",
        "**Exercício:**\n",
        "\n",
        "1. Aplique uma transformação linear na imagem ```polem_baixo_contraste.bmp``` de modo a alargar seu histograma para toda a faixa de valores de dados do tipo ```uint8```. Ou seja, encontre um valor de $c$ e $b$ para que a imagem esteja na faixa de 0 a 255.\n",
        "\n",
        "2. Mostre as imagens e os respectivos histogramas antes e depois da transformação. Lembre-se de alterar os limites de visualização da imagem para o range todo para visualizar o efeito do alargamento. Comente o resultado.\n",
        "\n",
        "3. A partir do resultado anterior, aplique uma transformação linear na mesma imagem afim de gerar o seu negativo. Mostre a imagem."
      ]
    },
    {
      "cell_type": "code",
      "metadata": {
        "id": "7ijwVq_bieYM"
      },
      "source": [
        "## -- Seu código começa AQUI -- ##\n",
        "\n",
        "\n",
        "## -- Seu código termina AQUI -- ##\n",
        "\n",
        "#COMENTÁRIO:"
      ],
      "execution_count": null,
      "outputs": []
    },
    {
      "cell_type": "markdown",
      "metadata": {
        "id": "u0PIlEKf7HZH"
      },
      "source": [
        "2.2) Transformação não-linear:\n",
        "\n",
        "Agora, iremos analisar algumas transformações não-lineares. Um exemplo clássico é a transformação logarítmica ($log$). Sua fórmula geral é dada por:\n",
        "\n",
        "$$g(x,y) = c * log(f(x,y) + 1),$$\n",
        "\n",
        "onde $c$ é uma constante. A figura 2 ilustra essa transformação, bem como algumas outras transformações já mencionadas em sala de aula.\n",
        "\n",
        "<center><img src=\"https://github.com/LAVI-USP/SEL0449-SEL5895_2023/blob/main/imagens/pratica_03/log.png?raw=true\" width=\"353\" height=\"320\"></center>\n",
        "\n",
        "<center><caption><b>Figura 2:</b> Exemplos de transformações ponto a ponto.</b></caption></center>\n",
        "<caption><center> Referência: Gonzalez and Woods, Digital Image Processing 3rd.</center></caption>\n",
        "\n",
        "Outro exemplo é a transformação *gamma*, dada por:\n",
        "\n",
        "$$g(x,y) = c * f(x,y)^\\gamma$$\n",
        "\n",
        "onde $c$ tambem é uma constante. Como no caso da transformação logarítmica, curvas de transformação de potência com valores de $\\gamma$ menores que 1 mapeiam uma faixa estreita de valores escuros de entradas em uma faixa mais ampla de valores de saída, com o oposto se aplicando a valores mais altos de níveis de entrada. A figura 3 ilustra como são os formatos das curvas com diferentes valores de *gamma*.\n",
        "\n",
        "<center><img src=\"https://github.com/LAVI-USP/SEL0449-SEL5895_2023/blob/main/imagens/pratica_03/gamma.png?raw=true\" width=\"365\" height=\"330\"></center>\n",
        "\n",
        "<center><caption><b>Figura 3:</b> Curvas com diferentes valores de *gamma*.</b></caption></center>\n",
        "<caption><center>Referência: Gonzalez and Woods, Digital Image Processing 3rd.</center></caption>\n",
        "\n",
        "\n",
        "**Exercício:**\n",
        "\n",
        "1. Utilizando a imagem ```mriphantom.tif```, execute as seguintes transformações não-lineares, encontrando o valor mais adequado para a constante c de forma que os níveis de cinza abranjam todo o range de intensidade considerando resolução de 8 bits:\n",
        "\n",
        "*   ```G1 = np.uint8(c * np.log10(img + 1.0))```\n",
        "*   ```G2 = np.uint8(c * (img ** 0.25))```\n",
        "\n",
        "2. Mostrar as imagens e os histogramas resultantes de cada uma das transformações acima.\n",
        "3. Comente os resultados encontrados para cada uma delas, explicando o que a transformação utilizada fez com os níveis de cinza da imagem em relação ao contraste e brilho.\n"
      ]
    },
    {
      "cell_type": "code",
      "metadata": {
        "id": "P-vM4ArC2p-D"
      },
      "source": [
        "## -- Seu código começa AQUI -- ##\n",
        "\n",
        "## -- Seu código termina AQUI -- ##\n",
        "\n",
        "#COMENTÁRIO:"
      ],
      "execution_count": null,
      "outputs": []
    },
    {
      "cell_type": "markdown",
      "metadata": {
        "id": "UwovOaPtUIFf"
      },
      "source": [
        "### 3) Equalização de histograma (Nota: 1.0/10.0)\n",
        "\n",
        "**Exercício:**\n",
        "\n",
        "1. Faça a equalização de histograma da imagem ```polem_baixo_contraste.bmp``` utlizando a função [cv.equalizeHist](https://docs.opencv.org/2.4/modules/imgproc/doc/histograms.html?highlight=equalizehist#equalizehist) do OpenCV.\n",
        "\n",
        "2. Mostre as imagens e os respectivos histogramas (antes e depois da equalização). Comente os resultados. Nota-se diferença com relação ao alargamento de histograma realizado anteriormente com a mesma imagem?\n"
      ]
    },
    {
      "cell_type": "code",
      "metadata": {
        "id": "ao7T6of3rL3q"
      },
      "source": [
        "## -- Seu código começa AQUI -- ##\n",
        "\n",
        "## -- Seu código termina AQUI -- ##\n",
        "\n",
        "#COMENTÁRIO:"
      ],
      "execution_count": null,
      "outputs": []
    },
    {
      "cell_type": "markdown",
      "metadata": {
        "id": "RxjVUijeDIfU"
      },
      "source": [
        "### 4) Binarização (Nota: 1.5/10.0)\n",
        "\n",
        "**Exercicio:**\n",
        "\n",
        "1. Visualize o histograma da imagem `palavrascruzadas.tif` e defina um limiar (*threshold*) para binarização.\n",
        "\n",
        "2. Implemente um código (*com técnicas regulares de programação Python*) que realize a operação de transformação para imagem binária, com base no limiar que você definiu. O objetivo é separar ao máximo o que é considerado como peça do que é letra, ou fundo da imagem.\n",
        "\n",
        "2. Apresente a imagem binarizada resultante.\n",
        "\n",
        "3. Uma outra forma de binarizar a imagem é utilizando algoritmos que buscam um limiar (*threshold*) de forma automática. É o caso, por exemplo, do método de Otsu ([informações sobre o método aqui](https://docs.opencv.org/master/d7/d4d/tutorial_py_thresholding.html))\n",
        "\n",
        "  *   A função [cv.threshold](https://docs.opencv.org/master/d7/d1b/group__imgproc__misc.html#gae8a4a146d1ca78c626a53577199e9c57) - [exemplos aqui](https://docs.opencv.org/master/d7/d4d/tutorial_py_thresholding.html) - permite fazer uso dessa técninca, ao passar os argumentos conforme abaixo.\n",
        "  *   *Ex:*\n",
        "  ``` python\n",
        "  th_value,img = cv.threshold(myImg, 0, 255, cv.THRESH_BINARY + cv.THRESH_OTSU)\n",
        "  ```\n",
        "  em que ```th_value``` receberá o valor do *threshold* encontrado e ```img``` a imagem binarizada\n",
        "\n",
        "4. Implemente um código (*utilizando a função cv.threshold com método de Otsu*) que realize a operação de binarização da imagem original.\n",
        "\n",
        "5. Apresente a imagem binarizada resultante.\n",
        "\n",
        "6. Comente os resultados, comparando as duas formas de encontrar o limiar (*threshold*).\n"
      ]
    },
    {
      "cell_type": "code",
      "metadata": {
        "id": "SC8KT_BxH9RJ"
      },
      "source": [
        "## -- Seu código começa AQUI -- ##\n",
        "\n",
        "## -- Seu código termina AQUI -- ##\n",
        "\n",
        "#COMENTÁRIO:"
      ],
      "execution_count": null,
      "outputs": []
    },
    {
      "cell_type": "markdown",
      "metadata": {
        "id": "A0KYwX_lJtCM"
      },
      "source": [
        "# **Transformação por vizinhança**"
      ]
    },
    {
      "cell_type": "markdown",
      "metadata": {
        "id": "6fKsf821cIKu"
      },
      "source": [
        "Transformações por vizinhança se dão por meio da combinação das intensidades de um certo número de pixels (janela ou *kernel*), a fim de computar o valor da nova intensidade na imagem de saída. A Figura 4 ilustra como se dá esse processo através da convolução espacial.\n",
        "\n",
        "<center><img src=\"https://github.com/LAVI-USP/SEL0449-SEL5895_2023/blob/main/imagens/pratica_03/convolucao.gif?raw=true\" style=\"width:650px;height:300px;\"></center>\n",
        "\n",
        "<center><caption><b> Figura 4:</b> Ilustração da convolução de um filtro em uma imagem.</b></caption></center>\n",
        "\n",
        "Na figura acima foi utilizado um *kernel* do tipo:\n",
        "\n",
        "\\begin{equation}\n",
        "K =\n",
        "\\begin{bmatrix}\n",
        "1 & 0 & 1\\\\\n",
        "0 & 1 & 0\\\\\n",
        "1 & 0 & 1\n",
        "\\end{bmatrix}\n",
        "\\end{equation}\n",
        "\n",
        "Quando o filtro está na primeira posição, a equação matemática para se obter o valor 4 é dada por:\n",
        "\n",
        "$$g(x,y) = 1 \\times 1  +  0 \\times 1  + 1 \\times 1  + 0 \\times 0  + 1 \\times 1  + 0 \\times 1  + 1 \\times 0  + 0  \\times 0  + 1 \\times 1.$$\n",
        "\n",
        "É importante notar que no domínio do espaço a diferença entre a Convolução e a Correlação Cruzada reside apenas no espelhamento do Template (*kernel*) a ser utilizado, que deve ser feito na Convolução. Como, em geral, os Templates são simétricos, a equação da Correlação Cruzada tem sido empregada com o nome de Convolução na área de Processamento de Imagens.\n",
        "\n",
        "Como pode ser observado na animação acima, caso a borda da imagem não seja tratada, a imagem resultante tem um tamanho menor. Esse tamanho pode ser calculado por meio da equação:\n",
        "\n",
        "$$ g_n = n + 2 \\times p - k + 1,$$\n",
        "\n",
        "onde $n$ é o número de linhas da imagem original, $p$ o número de pixels utilizados no *padding* e $k$ é o tamanho do *kernel* (geralmente quadrado). No caso acima, $n = 5$, $p = 0$ e $k = 3$, resultando em uma imagem de $3\\times3$. Para evitar esse problema é necessário utilizar o *padding* com o valor $p = 1$. O mesmo se dá para as colunas da imagem.\n",
        "\n",
        "Referências:\n",
        "\n",
        "*   Material da sala de aula;\n",
        "*   OpenCV: [Smoothing Images](https://docs.opencv.org/master/d4/d13/tutorial_py_filtering.html)."
      ]
    },
    {
      "cell_type": "markdown",
      "metadata": {
        "id": "eioKBPwCc8P2"
      },
      "source": [
        "### 5) Filtro Passa Baixa (Nota: 1.5/10)\n",
        "\n",
        "**Exercício:**\n",
        "\n",
        "1. A imagem ```board_ruido.tif``` está contaminada com ruído *gaussiano* de média zero e desvio padrão 100. Implemente um código que atenue o ruído da imagem dada utilizando:\n",
        "\n",
        "  *   Filtro da média ```3x3```.\n",
        "  *   Filtro da média ```9x9```.\n",
        "  *   Filtro da média ```12x12```.\n",
        "\n",
        "2. Comente os resultados.\n",
        "\n",
        "*Dicas:*\n",
        "\n",
        "*    Considere o exemplo do *kernel* $K$ de um filtro espacial da média apresentado abaixo:\n",
        "    \\begin{equation}\n",
        "    K = \\frac{1}{9}\n",
        "    \\begin{bmatrix}\n",
        "    1 & 1 & 1\\\\\n",
        "    1 & 1 & 1\\\\\n",
        "    1 & 1 & 1\n",
        "    \\end{bmatrix}\n",
        "    \\end{equation}\n",
        "\n",
        "    Pode-se utilizar a declaração de array da biblioteca *numpy* para declarar K como uma matriz da seguinte maneira:\n",
        "\n",
        "    ``` python\n",
        "    kernel = np.array(((1, 1, 1),\n",
        "                        (1, 1, 1),\n",
        "                        (1, 1, 1))) / 9\n",
        "    ```\n",
        " ou\n",
        "    ``` python\n",
        "    kernel = np.ones((3,3)) / 9\n",
        "    ```\n",
        "*   Utilize a função [cv.filter2D](https://docs.opencv.org/3.4/d4/d86/group__imgproc__filter.html#ga27c049795ce870216ddfb366086b5a04) para fazer a convolução com o *kernel*.\n",
        "\n",
        "    ``` python\n",
        "    cv.filter2D(myImg, -1, myKernel)\n",
        "    ```\n",
        "   \n",
        "*   Mostre as imagens na faixa de ```0-255 ```."
      ]
    },
    {
      "cell_type": "markdown",
      "source": [
        "**Observação**\n",
        "\n",
        "1. Ao trabalhar com filtros convolucionais, é essencial garantir que a imagem a ser filtrada seja de um \"tipo\" de variável que contemple números \"quebrados\", tal como o tipo ```float```.\n",
        "\n",
        "2. Sendo assim, nos exercícios abaixo, ao ler a imagem utilizando a função ```cv.imread()```, vamos adicionar um código que fará a variável ser do tipo ```float```.\n",
        "\n",
        "3. Para isto, basta adicionarmos o termo ```.astype('float')``` , conforme a primeira linha do código abaixo.\n",
        "\n",
        "4. Esta forma de utilizar a variável que contém a imagem é muito utilizada em processamentos de imagem."
      ],
      "metadata": {
        "id": "o7bctNMOCQI0"
      }
    },
    {
      "cell_type": "code",
      "metadata": {
        "id": "c9_OrDljoiAR"
      },
      "source": [
        "## -- Seu código começa AQUI -- ##\n",
        "\n",
        "## -- Seu código termina AQUI -- ##\n",
        "\n",
        "#COMENTÁRIO:"
      ],
      "execution_count": null,
      "outputs": []
    },
    {
      "cell_type": "markdown",
      "metadata": {
        "id": "xcVgKof_clxW"
      },
      "source": [
        "### 6) Filtro passa-alta (Nota: 2.0/10.0)\n",
        "\n",
        "**Exercício:**\n",
        "\n",
        "1. Aplique o *kernel* de um filtro espacial passa-alta na imagem ```armadura.tif``` a fim de adquirir as altas frequências da imagem. Apresente a imagem resultante e, para melhor visualização, seu negativo. Você pode criar o filtro como orientado no exercício anterior, mas agora para passa-alta.\n",
        "\n",
        "2. Modifique esse *kernel* a fim de torná-lo um filtro de aguçamento e aplique-o na imagem. Apresente a imagem resultante e comente os resultados.\n",
        "\n"
      ]
    },
    {
      "cell_type": "code",
      "metadata": {
        "id": "Aat3AmtHcmvH"
      },
      "source": [
        "## -- Seu código começa AQUI -- ##\n",
        "\n",
        "## -- Seu código termina AQUI -- ##\n",
        "\n",
        "#COMENTÁRIO:"
      ],
      "execution_count": null,
      "outputs": []
    },
    {
      "cell_type": "markdown",
      "metadata": {
        "id": "XcJTRYpccoEH"
      },
      "source": [
        "**Aplicação - Filtro Laplaciano**\n",
        "\n",
        "A imagem da figura ```pontos.tif``` apresenta 3 pontos isolados quase imperceptíveis que podem ser detectados com um filtro passa-alta espacial.\n",
        "\n",
        "**Exercício:**\n",
        "\n",
        "1. Aplique filtro de *kernel* laplaciano na imagem para detectar esses pontos.\n",
        "\n",
        "2. Faça a binarização dessa imagem para melhor visualização dos pontos. Se necessário, utilize o histograma da imagem após a filtragem para detectar um bom valor de *threshold*.\n",
        "\n",
        "*Dicas:*\n",
        "\n",
        "*  Você pode utilizar a função [cv.filter2D](https://docs.opencv.org/3.4/d4/d86/group__imgproc__filter.html#ga27c049795ce870216ddfb366086b5a04) para fazer a convolução com o *kernel*;\n",
        "\n",
        "*  Você pode utilizar a função [np.where](https://numpy.org/doc/stable/reference/generated/numpy.where.html) para fazer a binarização.\n",
        "\n",
        "\n",
        "*Ex:*\n",
        "``` python\n",
        "cv.filter2D(myImg, -1, myKernel)\n",
        "np.where(myImg < threshold, Valor_para_TRUE, Valor_para_FALSE)\n",
        "```"
      ]
    },
    {
      "cell_type": "code",
      "metadata": {
        "id": "WoY0fr6Lcqku"
      },
      "source": [
        "## -- Seu código começa AQUI -- ##\n",
        "\n",
        "## -- Seu código termina AQUI -- ##\n",
        "\n",
        "#COMENTÁRIO:"
      ],
      "execution_count": null,
      "outputs": []
    },
    {
      "cell_type": "markdown",
      "metadata": {
        "id": "GJWlEPgJc_GQ"
      },
      "source": [
        "### 7) Processamento do pixel da borda (Nota: 1.5/10.0)\n",
        "**Exercício:**\n",
        "\n",
        "1. Filtre a imagem *img* dada abaixo, utilizando um filtro da média 5x5. Utilize as seguintes soluções para a borda:\n",
        "\n",
        "  *   *Padding* com zeros;\n",
        "  *   *Padding* simétrico;\n",
        "  *   *Padding* replicado;\n",
        "\n",
        "2. Mostre as imagens resultantes e comente as diferenças encontradas. Não se esqueça de definir vmin e max para melhor visualizar as diferenças.\n",
        "\n",
        "*Dicas:*\n",
        "  *   Você pode utilizar a função [cv.blur](https://docs.opencv.org/master/d4/d86/group__imgproc__filter.html#ga8c45db9afe636703801b0b2e440fce37) para o filtro da média;\n",
        "  *   Neste [link](https://docs.opencv.org/master/d2/de8/group__core__array.html#ga209f2f4869e304c82d07739337eae7c5) você pode encontrar os tipos de *padding* utilizados no OpenCV. O tipo ```BORDER_CONSTANT``` tem como padrão o valor 0.\n",
        "\n",
        "*Ex:*\n",
        "``` python\n",
        "cv.blur(myImg, (ksize,ksize), borderType=TipoDePadding)\n",
        "```\n",
        "\n"
      ]
    },
    {
      "cell_type": "code",
      "metadata": {
        "id": "7IbWPnHidCOx"
      },
      "source": [
        "#Imagem fornecida\n",
        "img = np.array(((255, 255, 255, 0, 0, 255, 255, 255, 255),\n",
        "                (255, 0,   0,   0, 0, 255, 255, 255, 255),\n",
        "                (255, 0,   255, 0, 0, 255, 255, 0, 255),\n",
        "                (0,   0,   0,   0, 0, 255, 255, 0, 255),\n",
        "                (0,   0,   0,   0, 0, 255, 255, 0, 255),\n",
        "                (0,   0,   0,   0, 0, 255, 255, 0, 255),\n",
        "                (0,   0,   0,   0, 0, 255, 255, 0, 255),\n",
        "                (0,   0,   0,   0, 0, 255, 255, 0, 255),\n",
        "                (0,   0,   0,   0, 0, 255, 255, 0, 255))).astype('float')\n",
        "\n",
        "\n",
        "## -- Seu código começa AQUI -- ##\n",
        "\n",
        "## -- Seu código termina AQUI -- ##\n",
        "\n",
        "#COMENTÁRIO:"
      ],
      "execution_count": null,
      "outputs": []
    }
  ]
}