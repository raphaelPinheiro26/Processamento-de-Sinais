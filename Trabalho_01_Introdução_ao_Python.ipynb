{
  "nbformat": 4,
  "nbformat_minor": 0,
  "metadata": {
    "colab": {
      "provenance": [],
      "authorship_tag": "ABX9TyOV161i36eQ7eOl9b8T+Vei",
      "include_colab_link": true
    },
    "kernelspec": {
      "name": "python3",
      "display_name": "Python 3"
    },
    "language_info": {
      "name": "python"
    }
  },
  "cells": [
    {
      "cell_type": "markdown",
      "metadata": {
        "id": "view-in-github",
        "colab_type": "text"
      },
      "source": [
        "<a href=\"https://colab.research.google.com/github/raphaelPinheiro26/Processamento-de-Sinais/blob/main/Trabalho_01_Introdu%C3%A7%C3%A3o_ao_Python.ipynb\" target=\"_parent\"><img src=\"https://colab.research.google.com/assets/colab-badge.svg\" alt=\"Open In Colab\"/></a>"
      ]
    },
    {
      "cell_type": "markdown",
      "source": [
        "Processamento de Sinais (Sistemas Biomédicos)\n",
        "\n",
        "\n",
        "Instruções:\n",
        "\n",
        "\n",
        "\n",
        "*   Esta lista consiste em  10 exercícios. Mas leia com atenção toda a parte introdutória, pois fará diferença para esta e demais listas!\n",
        "*   Deve-se colocar comentários nos códigos desenvolvidos.\n",
        "*   As perguntas devem ser respondidas também como comentários no arquivo.\n",
        "*   Colocar seu nome e número da matricula abaixo.\n",
        "*   Quaisquer problemas na execução das listas, entrar em contato com o professor.\n",
        "*   Depois de terminados os exercícios, deve ser gerado um arquivo extensão .ipynb para ser enviado ao professor pelo TEAMS da disciplina até a data máxima de entrega.\n",
        "*   Caso não seja enviado - ou identifique-se cópia - o aluno ficará sem nota.\n",
        "\n",
        "---"
      ],
      "metadata": {
        "id": "T6wGtkjDP9c1"
      }
    },
    {
      "cell_type": "markdown",
      "source": [
        "`Nome: `\n",
        "\n",
        "`Número FATEC: `\n",
        "\n",
        "`e-mail: `"
      ],
      "metadata": {
        "id": "0ptu7nC3QdOT"
      }
    },
    {
      "cell_type": "markdown",
      "source": [
        "## 1 - IMC\n",
        "\n",
        "Desenvolva um programa no qual receba peso e altura do usuário e indique a classificação de acordo com o indice de massa corporal."
      ],
      "metadata": {
        "id": "qdjhKpvASY4_"
      }
    },
    {
      "cell_type": "code",
      "source": [
        "# Escreva seu Código aqui\n",
        "\n",
        "\n",
        "\n",
        "\n",
        "\n"
      ],
      "metadata": {
        "id": "VIoh9hE1S9Fl"
      },
      "execution_count": null,
      "outputs": []
    },
    {
      "cell_type": "markdown",
      "source": [
        "## 2 - Avaliação Anual\n",
        "\n",
        "Desenvolva um programa no qual receba o nome do aluno, Nota 01, Nota 02 e a frequência de aulas assistidas. O programa deverá avaliar se o aluno foi aprovado ou repovado segundo os seguintes critérios:\n",
        "- Media menor ou igual a 5.5\n",
        "- frequência menor que 75%\n",
        "\n",
        "Após feito a avaliação, o programa deverá **GUARDAR** estas informações em **DUAS LISTAS** diferentes. Uma para aprovado e outra para reprovado."
      ],
      "metadata": {
        "id": "gZmP_2z9TCzW"
      }
    },
    {
      "cell_type": "code",
      "source": [
        "# Escreva Seu Código Aqui\n",
        "\n",
        "\n",
        "\n",
        "\n",
        "\n"
      ],
      "metadata": {
        "id": "QulCUcCDUpKj"
      },
      "execution_count": null,
      "outputs": []
    }
  ]
}