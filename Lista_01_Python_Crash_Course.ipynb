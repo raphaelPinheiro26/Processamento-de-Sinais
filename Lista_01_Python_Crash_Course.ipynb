{
  "nbformat": 4,
  "nbformat_minor": 0,
  "metadata": {
    "colab": {
      "provenance": [],
      "authorship_tag": "ABX9TyOc0mvG3xkDIRPA15vnLdr8",
      "include_colab_link": true
    },
    "kernelspec": {
      "name": "python3",
      "display_name": "Python 3"
    },
    "language_info": {
      "name": "python"
    }
  },
  "cells": [
    {
      "cell_type": "markdown",
      "metadata": {
        "id": "view-in-github",
        "colab_type": "text"
      },
      "source": [
        "<a href=\"https://colab.research.google.com/github/raphaelPinheiro26/Processamento-de-Sinais/blob/main/Lista_01_Python_Crash_Course.ipynb\" target=\"_parent\"><img src=\"https://colab.research.google.com/assets/colab-badge.svg\" alt=\"Open In Colab\"/></a>"
      ]
    },
    {
      "cell_type": "markdown",
      "source": [
        "Processamento de Sinais (Sistemas Biomédicos)\n",
        "\n",
        "\n",
        "Instruções:\n",
        "\n",
        "\n",
        "\n",
        "*   Esta lista consiste em  XXX exercícios. Mas leia com atenção toda a parte introdutória, pois fará diferença para esta e demais listas!\n",
        "*   Deve-se colocar comentários nos códigos desenvolvidos.\n",
        "*   As perguntas devem ser respondidas também como comentários no arquivo.\n",
        "*   Colocar seu nome e número da matricula abaixo.\n",
        "*   Quaisquer problemas na execução das listas, entrar em contato com o professor.\n",
        "*   Depois de terminados os exercícios, deve ser gerado um arquivo extensão .ipynb para ser enviado ao professor pelo TEAMS da disciplina até a data máxima de entrega.\n",
        "*   Caso não seja enviado - ou identifique-se cópia - o aluno ficará sem nota.\n",
        "\n",
        "\n",
        "\n",
        "---\n",
        "\n",
        "\n",
        "\n",
        "\n",
        "\n",
        "\n",
        "\n",
        "\n",
        "\n",
        "\n",
        "\n",
        "\n",
        "\n",
        "\n",
        "\n",
        "\n",
        "\n",
        "\n"
      ],
      "metadata": {
        "id": "dREjFUxMe7ko"
      }
    },
    {
      "cell_type": "markdown",
      "source": [
        "`Nome: `\n",
        "\n",
        "`Número FATEC: `\n",
        "\n",
        "`e-mail: `"
      ],
      "metadata": {
        "id": "GdrXgUTygdlM"
      }
    },
    {
      "cell_type": "markdown",
      "source": [
        "## Hello World\n",
        "\n",
        "Reza a lenda que que o programador que não fizer no seu primeiro código com  as instruções que escreva na tela o simples Hello World ou Olá Mundo... Não conseguirá e entender ou mesmo não será um bom profissional na área da programação ... Como não queremos isso, vamos iniciar nossos estudos em Python estudando a função Print().\n",
        "\n",
        "A função Print, faz parte das bibliotecas padrão do Python de Entrada Saída. Com isso, ao ser executada, ela escreverá na saída de vídeo padrão o texto entre parênteses"
      ],
      "metadata": {
        "id": "3jmR9o4QlUyX"
      }
    },
    {
      "cell_type": "code",
      "source": [
        "print(\"Hello World\")"
      ],
      "metadata": {
        "colab": {
          "base_uri": "https://localhost:8080/"
        },
        "id": "YlVPsRu6p4DA",
        "outputId": "5fb107db-1757-4a49-8958-bf99555c8783"
      },
      "execution_count": 2,
      "outputs": [
        {
          "output_type": "stream",
          "name": "stdout",
          "text": [
            "Hello World\n"
          ]
        }
      ]
    },
    {
      "cell_type": "markdown",
      "source": [
        "Agora é com vocês..."
      ],
      "metadata": {
        "id": "Gznk0eHPqCvp"
      }
    },
    {
      "cell_type": "code",
      "source": [
        "# Escreva o \"Hello World\" para não dar azar\n",
        "\n",
        "\n",
        "\n",
        "\n",
        "\n",
        "\n",
        "#Agora escreva Seu Nome\n",
        "\n",
        "\n",
        "\n",
        "\n",
        "#Escreva o que der vontade\n",
        "\n",
        "\n",
        "\n",
        "\n"
      ],
      "metadata": {
        "id": "wDMW6RDGqW5r"
      },
      "execution_count": null,
      "outputs": []
    },
    {
      "cell_type": "markdown",
      "source": [
        "## Variáveis\n",
        "\n"
      ],
      "metadata": {
        "id": "Hj-yGOSDqnxj"
      }
    }
  ]
}