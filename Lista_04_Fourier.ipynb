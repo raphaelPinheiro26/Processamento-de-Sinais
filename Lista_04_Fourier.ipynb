{
  "nbformat": 4,
  "nbformat_minor": 0,
  "metadata": {
    "colab": {
      "provenance": [],
      "collapsed_sections": [
        "NyvxHviMpShq"
      ],
      "include_colab_link": true
    },
    "kernelspec": {
      "display_name": "Python 3",
      "name": "python3"
    }
  },
  "cells": [
    {
      "cell_type": "markdown",
      "metadata": {
        "id": "view-in-github",
        "colab_type": "text"
      },
      "source": [
        "<a href=\"https://colab.research.google.com/github/raphaelPinheiro26/Processamento-de-Sinais/blob/main/Lista_04_Fourier.ipynb\" target=\"_parent\"><img src=\"https://colab.research.google.com/assets/colab-badge.svg\" alt=\"Open In Colab\"/></a>"
      ]
    },
    {
      "cell_type": "markdown",
      "metadata": {
        "id": "kGlmyFQMaR-U"
      },
      "source": [
        "# Lista de Exercício 4\n",
        "### Processamento Digital de Sinais e Imagens\n",
        "\n",
        "**Instruções:**\n",
        "\n",
        " 1. Esta lista consiste em 3 exercícios.\n",
        " 1. Deve-se colocar comentários nos códigos desenvolvidos.\n",
        " 1. As perguntas devem ser respondidas também como comentários no arquivo.\n",
        " 1. Colocar seu nome e número USP abaixo.\n",
        " 1. Quaisquer problemas na execução das listas, entrar em contato com os monitores.\n",
        " 1. Depois de terminados os exercícios, deve ser gerado um arquivo **extensão .ipynb** para ser enviado ao professor pelo TEAMS da disciplina até a data máxima de entrega.\n",
        " 1. Caso não seja enviado - ou identifique-se cópia - o aluno ficará sem nota.\n",
        "\n",
        "\n",
        "---\n",
        "\n",
        "\n",
        "\n",
        " <table class=\"tfo-notebook-buttons\" align=\"left\">\n",
        "  <td>\n",
        "    <a target=\"_blank\" href=\"https://colab.research.google.com/github/LAVI-USP/SEL0449-SEL5895_2023/blob/main/praticas/Lista_de_Exercicio_4.ipynb\"><img src=\"https://www.tensorflow.org/images/colab_logo_32px.png\" />Executar no Google Colab</a>\n",
        "  </td>\n",
        "</table>\n"
      ]
    },
    {
      "cell_type": "markdown",
      "metadata": {
        "id": "L3qYz1dB-tlT"
      },
      "source": [
        "`Nome: `\n",
        "\n",
        "`Número FATEC: `"
      ]
    },
    {
      "cell_type": "markdown",
      "metadata": {
        "id": "b9uBe7nevota"
      },
      "source": [
        "### Introdução:\n",
        "\n",
        "Nesta lista de exercícios vamos estudar sobre a transformada de Fourier. Primeiramente vamos importar as bibliotecas que iremos utilizar:"
      ]
    },
    {
      "cell_type": "code",
      "metadata": {
        "id": "xnKV2As4aCX1"
      },
      "source": [
        "import numpy as np\n",
        "import matplotlib.pyplot as plt\n",
        "import cv2 as cv"
      ],
      "execution_count": null,
      "outputs": []
    },
    {
      "cell_type": "markdown",
      "metadata": {
        "id": "NyvxHviMpShq"
      },
      "source": [
        "#### **Atenção**: os códigos abaixo são para fazer o download das imagens necessárias para a prática. EXECUTE-OS!"
      ]
    },
    {
      "cell_type": "code",
      "metadata": {
        "id": "Amk5CM273Afp"
      },
      "source": [
        "import urllib.request\n",
        "\n",
        "try:\n",
        "  urllib.request.urlretrieve(\"https://github.com/LAVI-USP/SEL0449-SEL5895_2023/blob/main/imagens/pratica_04/circulo.tif?raw=true\", \"circulo.tif\")\n",
        "except:\n",
        "  print(\"[ERRO] Não foi possível fazer o download das imagens dessa prática. Entre em contato com o monitor\")\n",
        "\n",
        "try:\n",
        "  urllib.request.urlretrieve(\"https://github.com/LAVI-USP/SEL0449-SEL5895_2023/blob/main/imagens/pratica_04/faixahorizontal.tif?raw=true\", \"faixahorizontal.tif\")\n",
        "except:\n",
        "  print(\"[ERRO] Não foi possível fazer o download das imagens dessa prática. Entre em contato com o monitor\")\n",
        "\n",
        "try:\n",
        "  urllib.request.urlretrieve(\"https://github.com/LAVI-USP/SEL0449-SEL5895_2023/blob/main/imagens/pratica_04/faixavertical.tif?raw=true\", \"faixavertical.tif\")\n",
        "except:\n",
        "  print(\"[ERRO] Não foi possível fazer o download das imagens dessa prática. Entre em contato com o monitor\")\n",
        "\n",
        "try:\n",
        "  urllib.request.urlretrieve(\"https://github.com/LAVI-USP/SEL0449-SEL5895_2023/blob/main/imagens/pratica_04/hret_sim.tif?raw=true\", \"hret_sim.tif\")\n",
        "except:\n",
        "  print(\"[ERRO] Não foi possível fazer o download das imagens dessa prática. Entre em contato com o monitor\")\n",
        "\n",
        "try:\n",
        "  urllib.request.urlretrieve(\"https://github.com/LAVI-USP/SEL0449-SEL5895_2023/blob/main/imagens/pratica_04/losango.tif?raw=true\", \"losango.tif\")\n",
        "except:\n",
        "  print(\"[ERRO] Não foi possível fazer o download das imagens dessa prática. Entre em contato com o monitor\")\n",
        "\n",
        "try:\n",
        "  urllib.request.urlretrieve(\"https://github.com/LAVI-USP/SEL0449-SEL5895_2023/blob/main/imagens/pratica_04/parallelogram.tif?raw=true\", \"parallelogram.tif\")\n",
        "except:\n",
        "  print(\"[ERRO] Não foi possível fazer o download das imagens dessa prática. Entre em contato com o monitor\")\n",
        "\n",
        "try:\n",
        "  urllib.request.urlretrieve(\"https://github.com/LAVI-USP/SEL0449-SEL5895_2023/blob/main/imagens/pratica_04/parallelogram_2.tif?raw=true\", \"parallelogram_2.tif\")\n",
        "except:\n",
        "  print(\"[ERRO] Não foi possível fazer o download das imagens dessa prática. Entre em contato com o monitor\")\n",
        "\n",
        "try:\n",
        "  urllib.request.urlretrieve(\"https://github.com/LAVI-USP/SEL0449-SEL5895_2023/blob/main/imagens/pratica_04/quadrado.tif?raw=true\", \"quadrado.tif\")\n",
        "except:\n",
        "  print(\"[ERRO] Não foi possível fazer o download das imagens dessa prática. Entre em contato com o monitor\")\n",
        "\n",
        "try:\n",
        "  urllib.request.urlretrieve(\"https://github.com/LAVI-USP/SEL0449-SEL5895_2023/blob/main/imagens/pratica_04/retangulohorizontal.tif?raw=true\", \"retangulohorizontal.tif\")\n",
        "except:\n",
        "  print(\"[ERRO] Não foi possível fazer o download das imagens dessa prática. Entre em contato com o monitor\")\n",
        "\n",
        "try:\n",
        "  urllib.request.urlretrieve(\"https://github.com/LAVI-USP/SEL0449-SEL5895_2023/blob/main/imagens/pratica_04/retangulovertical.tif?raw=true\", \"retangulovertical.tif\")\n",
        "except:\n",
        "  print(\"[ERRO] Não foi possível fazer o download das imagens dessa prática. Entre em contato com o monitor\")\n",
        "\n",
        "try:\n",
        "  urllib.request.urlretrieve(\"https://github.com/LAVI-USP/SEL0449-SEL5895_2023/blob/main/imagens/pratica_04/vret_sim.tif?raw=true\", \"vret_sim.tif\")\n",
        "except:\n",
        "  print(\"[ERRO] Não foi possível fazer o download das imagens dessa prática. Entre em contato com o monitor\")\n",
        "\n",
        "try:\n",
        "  urllib.request.urlretrieve(\"https://github.com/LAVI-USP/SEL0449-SEL5895_2023/blob/main/imagens/pratica_04/pirate.tif?raw=true\", \"pirate.tif\")\n",
        "except:\n",
        "  print(\"[ERRO] Não foi possível fazer o download das imagens dessa prática. Entre em contato com o monitor\")\n"
      ],
      "execution_count": null,
      "outputs": []
    },
    {
      "cell_type": "markdown",
      "metadata": {
        "id": "ppupxqIr71zm"
      },
      "source": [
        "### 1) Transformada de Fourier 2D (4.0/10.0)\n",
        "\n",
        "\n",
        "A transformada de Fourier de uma função amostrada finita é uma função contínua, periódica e infinita. No domínio da frequência, o espectro se repete\n",
        "em infinitos períodos. O cálculo  da transformada é feito em apenas um período.\n",
        "\n",
        "Como ela é, em geral, complexa, pode ser expressa na forma polar:<br/><br/>\n",
        "\n",
        "$$F(u,v) = |F(u,v)|e^{j\\phi(u,v)}$$<br/>\n",
        "\n",
        "sendo a magnitude (espectro de Fourier ou espectro de frequência):<br/><br/>\n",
        "\n",
        "$$|F(u,v)| = [R^2(u,v) + I^2(u,v)]^{1/2}$$<br/>\n",
        "\n",
        "e o ângulo de fase:<br/>\n",
        "\n",
        "$$\\phi(u,v) = arctan[I(u,v)/R(u,v)]$$<br/>\n",
        "\n",
        "sendo $R$ a parte real e $I$ a parte imaginária de $F(u,v)$.<br/><br/>\n",
        "\n",
        "As componentes do espectro de frequências determinam as amplitudes das senóides que se combinam para formar a imagem resultante. Uma grande amplitude em determinada frequência, implica em maior proeminência, na imagem, de uma senóide nessa frequência. O contrário também é válido.\n",
        "As componentes de fase são menos intuitivas, mas são tão importantes quanto o espectro de frequências. A fase é uma medida do deslocamento das várias senóides em relação à sua origem - é um arranjo de ângulos que apresentam grande parte das informações sobre a localização dos objetos discerníveis na imagem.\n",
        "\n",
        "\n",
        "<center><img src=\"https://github.com/LAVI-USP/SEL0449-SEL5895_2023/blob/main/imagens/pratica_04/brain_dft.png?raw=true\" style=\"width:836px;height:266px;\"></center>\n",
        "\n",
        "\n",
        "<center><caption><b> Figura 1:</b> Espectro de frequência e ângulos de fase de uma imagem de ressonância magnética cerebral.</b></caption></center>\n",
        "<caption><center> Referência: <a href=\"https://brain-development.org/ixi-dataset/\">IXI Dataset</a>.</center></caption>\n",
        "\n",
        "Funções de tranformada de Fourier utilizam algoritmos como *Fast Fourier Transform (FFT)* para o cálculo. Em python, a biblioteca Numpy fornece uma função pronta para a transformação considerando uma imagem (2D) [np.fft.fft2](https://numpy.org/doc/stable/reference/generated/numpy.fft.fft2.html). Também oferece uma função para o deslocamento [np.fft.fftshift](https://numpy.org/doc/stable/reference/generated/numpy.fft.fftshift.html) - deixando o espectro centralizado (menores frequências no centro do espectro).\n",
        "\n",
        "```python\n",
        "f = np.fft.fft2(img)\n",
        "fshift = np.fft.fftshift(f)\n",
        "magnitude_spectrum = 20*np.log(np.abs(fshift)+1.)\n",
        "```\n",
        "\n",
        "A função de transformada retorna uma matriz com números complexos, assim como esperado. Para cálculo da magnitude, a função [np.abs](https://numpy.org/doc/stable/reference/generated/numpy.absolute.html), em caso de números complexos $a+bj$, retorna o resultado conforme:\n",
        "\n",
        "$$\\sqrt{(a^2+b^2)}$$\n",
        "\n",
        "Como as amplitudes do espectro variam em um range muito grande e não equalizado, é necessário ajustar o contraste para que seja possível visualizar em um plot. Por esse motivo, faz-se uma transformação logarítma.\n",
        "\n",
        "Atenção: essa transformação é aplicada apenas para efeito de visualização. Soma-se um valor pequeno, por exemplo \"1\", às magnitudes encontradas, tal como no exemplo, pois intensidades de valor 0 gerariam erro quando o log fosse calculado."
      ]
    },
    {
      "cell_type": "markdown",
      "metadata": {
        "id": "3wfqGqAhHKBA"
      },
      "source": [
        "\n",
        "1.1) Calcule a transformada de Fourier das imagens listadas abaixo. Para cada imagem, mostre o espectro de frequências (amplitude), com a devida correção logarítma e centralização. **Comente os resultados encontrados em cada imagem**.\n",
        "\n",
        "* circulo.tif\n",
        "\n",
        "* faixahorizontal.tif\n",
        "\n",
        "* faixavertical.tif\n",
        "\n",
        "* losango.tif\n",
        "\n",
        "* quadrado.tif\n",
        "\n",
        "* retangulovertical.tif\n",
        "\n",
        "* retangulohorizontal.tif\n",
        "\n",
        "* vret_sim.tif\n",
        "\n",
        "* hret_sim.tif\n",
        "\n",
        "* parallelogram.tif\n",
        "\n",
        "* parallelogram_2.tif"
      ]
    },
    {
      "cell_type": "code",
      "metadata": {
        "id": "v3zOxtTSjJh8"
      },
      "source": [
        "## -- Seu código começa AQUI -- ##\n",
        "\n",
        "\n",
        "## -- Seu código termina AQUI -- ##\n",
        "\n",
        "## COMENTÁRIO:"
      ],
      "execution_count": null,
      "outputs": []
    },
    {
      "cell_type": "markdown",
      "metadata": {
        "id": "OcMh8xfE_EDX"
      },
      "source": [
        "### 2) Domínio de frequência x Domínio da imagem (4.0/10.0)\n",
        "\n",
        "Não há perda de informação entre transformações de Fourier, seja no sentido \"de ida\" (domínio de imagem para frequência) ou no sentido \"da volta\" (domínio da frequência para imagem). Na Figura 2, vemos o espectro de frequências correspondente a uma função 2D. Repare que há uma proporcionalidade entre o pico do espectro e as dimensões A, T e Z da função.\n",
        "\n",
        "\n",
        "<center><img src=\"https://github.com/LAVI-USP/SEL0449-SEL5895_2023/blob/main/imagens/pratica_04/Espectro_2D.PNG?raw=true\" style=\"width:836px;height:266px;\"></center>\n",
        "\n",
        "<center><caption><b> Figura 2:</b> Uma função 2D e uma seção do seu espectro (fora de escala).</b></caption></center>\n",
        "<caption><center> Referência: Gonzalez and Woods, Digital Image Processing 3rd.</center></caption>\n",
        "\n",
        "\n",
        "\n",
        "A biblioteca numpy também fornece funções para a descentralização [np.fft.ifftshift](https://numpy.org/doc/stable/reference/generated/numpy.fft.ifftshift.html) e caminho inverso - domínio da frequência para imagem [np.fft.ifft2](https://numpy.org/doc/stable/reference/generated/numpy.fft.ifft2.html). No processo de transformação, pelo algoritmo utilizado, restam alguns valores complexos (insignificantes), sendo necessário calcular o valor absoluto do resultado da transformada inversa para que seja possível visualizar a imagem. Veja o exemplo a seguir:\n",
        "\n",
        "```python\n",
        "ifshift = np.fft.ifftshift(f)\n",
        "img = np.abs(np.fft.ifft2(ifshift))\n",
        "```\n",
        "\n",
        "2.1) Leia a imagem 'pirate.tif' e calcule o seu negativo.\n",
        "Em seguida,\n",
        "\n",
        "*   Calcule a diferença das médias das imagens (original e negativo). Qual o valor obtido?\n",
        "*   Calcule o espectro de frequências da imagem original e do negativo. Centralize os espectros e guarde os valores absolutos calculados, pois serão importantes para o próximo exercício.\n",
        "*   Faça o ajuste logarítmo e mostre as imagens e seus espectros correspondentes.\n",
        "\n"
      ]
    },
    {
      "cell_type": "code",
      "metadata": {
        "id": "7ijwVq_bieYM"
      },
      "source": [
        "## -- Seu código começa AQUI -- ##\n",
        "\n",
        "## -- Seu código termina AQUI -- ##"
      ],
      "execution_count": null,
      "outputs": []
    },
    {
      "cell_type": "markdown",
      "metadata": {
        "id": "8onXJnGtrUyU"
      },
      "source": [
        "2.2) Faça a diferença entre as magnitudes dos espectros armazenadas no exercício anterior - referentes à imagem original e seu negativo. Aplique o ajuste logarítmo e mostre o espectro resultante. O resultado deve ser um único ponto central. O que ele significa? Qual seu valor?\n",
        "\n",
        "Dicas:\n",
        "1. Mostre o espectro com figsize=(15,15) para melhor visualização.\n",
        "2. Lembre-se de considerar a transformação logarítma apenas para visualização."
      ]
    },
    {
      "cell_type": "code",
      "metadata": {
        "id": "qyTBf5uLrKQl"
      },
      "source": [
        "## -- Seu código começa AQUI -- ##\n",
        "\n",
        "\n",
        "## -- Seu código termina AQUI -- ##"
      ],
      "execution_count": null,
      "outputs": []
    },
    {
      "cell_type": "markdown",
      "metadata": {
        "id": "u7Jdotawvc5V"
      },
      "source": [
        "2.3) Considere o espectro de diferença do exercício anterior e realize a transformada inversa. Calcule valor médio, máximo e mínimo da imagem obtida. O que representa essa imagem? **Compare com os valores obtidos nos exercícios 2.1 e 2.2 e comente os resultados.**"
      ]
    },
    {
      "cell_type": "code",
      "metadata": {
        "id": "I8nh1EVjvsDJ"
      },
      "source": [
        "## -- Seu código começa AQUI -- ##\n",
        "\n",
        "## -- Seu código termina AQUI -- ##"
      ],
      "execution_count": null,
      "outputs": []
    },
    {
      "cell_type": "markdown",
      "metadata": {
        "id": "UwovOaPtUIFf"
      },
      "source": [
        "### 3) Transformada inversa de Fourier 2D (Nota: 2.0/10.0)\n",
        "\n",
        "\n",
        "3.1) Execute o código abaixo. Inclua comentários em cada linha do programa e explique o que ele executa.\n",
        "\n"
      ]
    },
    {
      "cell_type": "code",
      "metadata": {
        "id": "7fEkl9dl-uJi"
      },
      "source": [
        "H = np.zeros((64,64))\n",
        "M,N = H.shape\n",
        "cx = int(M/2)\n",
        "cy = int(N/2)\n",
        "\n",
        "freq = 3\n",
        "\n",
        "H[cx-freq,cy-freq] = 1\n",
        "H[cx+freq,cy+freq] = 1\n",
        "\n",
        "f = np.fft.ifft2(np.fft.ifftshift(H))\n",
        "f = np.abs(f)\n",
        "f = np.uint8((255*(f-f.min()))/(f.max()-f.min()))\n",
        "\n",
        "plt.figure(figsize=(10,5))\n",
        "plt.subplot(1,2,1)\n",
        "plt.imshow(H,'gray')\n",
        "plt.subplot(1,2,2)\n",
        "plt.imshow(f,'gray')\n",
        "plt.show()\n",
        "\n",
        "#COMENTÁRIO:\n"
      ],
      "execution_count": null,
      "outputs": []
    },
    {
      "cell_type": "markdown",
      "metadata": {
        "id": "JeUWVyLXCjGi"
      },
      "source": [
        "3.2) Varie a frequência (variável 'freq') gerando pelo menos 2 novos padrões senoidais. **Comente os resultados.**"
      ]
    },
    {
      "cell_type": "code",
      "metadata": {
        "id": "IRwbepDgM1JU"
      },
      "source": [
        "## -- Seu código começa AQUI -- ##\n",
        "\n",
        "## -- Seu código termina AQUI -- ##\n",
        "\n",
        "#COMENTÁRIO:"
      ],
      "execution_count": null,
      "outputs": []
    }
  ]
}